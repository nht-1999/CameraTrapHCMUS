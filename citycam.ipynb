{
 "cells": [
  {
   "cell_type": "code",
   "execution_count": 1,
   "id": "81728ff4-13f3-4aec-8635-931027b76e6c",
   "metadata": {},
   "outputs": [],
   "source": [
    "path = 'data/CityCam/164-20160223-09/000001.xml'"
   ]
  },
  {
   "cell_type": "code",
   "execution_count": null,
   "id": "74331d09-d744-4a9a-bfb9-e06faab57cd7",
   "metadata": {},
   "outputs": [],
   "source": []
  },
  {
   "cell_type": "code",
   "execution_count": 5,
   "id": "d256aa22-506c-4746-a8a5-05838f021b2d",
   "metadata": {},
   "outputs": [
    {
     "data": {
      "text/plain": [
       "'255'"
      ]
     },
     "execution_count": 5,
     "metadata": {},
     "output_type": "execute_result"
    }
   ],
   "source": [
    "import xml.etree.ElementTree as ET\n",
    "tree = ET.parse(path)\n",
    "root = tree.getroot()\n",
    "root[10][1][0].text"
   ]
  },
  {
   "cell_type": "code",
   "execution_count": 57,
   "id": "3bdff9dc-a49e-41d0-886c-4606a2e0a1ee",
   "metadata": {},
   "outputs": [
    {
     "name": "stdout",
     "output_type": "stream",
     "text": [
      "6 0.8579545454545454 0.7979166666666667 0.2897727272727273 0.29583333333333334\n",
      "\n",
      "3 0.9588068181818182 0.9416666666666667 0.08806818181818182 0.125\n",
      "\n",
      "3 0.6306818181818182 0.9875 0.1875 0.03333333333333333\n",
      "\n",
      "7 0.4474431818181818 0.9104166666666667 0.36079545454545453 0.1875\n",
      "\n",
      "7 0.4446022727272727 0.78125 0.28125 0.1875\n",
      "\n",
      "7 0.09659090909090909 0.88125 0.19318181818181818 0.24583333333333332\n",
      "\n",
      "3 0.17329545454545456 0.7875 0.19886363636363635 0.175\n",
      "\n",
      "2 0.18323863636363635 0.6729166666666667 0.11647727272727272 0.1375\n",
      "\n",
      "3 0.02130681818181818 0.6125 0.04261363636363636 0.10833333333333334\n",
      "\n",
      "5 0.11931818181818182 0.53125 0.13636363636363635 0.22083333333333333\n",
      "\n",
      "7 0.2215909090909091 0.4479166666666667 0.07386363636363637 0.09583333333333334\n",
      "\n",
      "7 0.2727272727272727 0.39166666666666666 0.045454545454545456 0.06666666666666667\n",
      "\n",
      "5 0.32954545454545453 0.3104166666666667 0.05113636363636364 0.07916666666666666\n",
      "\n",
      "5 0.3806818181818182 0.275 0.03977272727272727 0.058333333333333334\n",
      "\n",
      "3 0.04261363636363636 0.5270833333333333 0.03977272727272727 0.0875\n",
      "\n",
      "3 0.046875 0.48541666666666666 0.05397727272727273 0.0625\n",
      "\n",
      "9 0.19176136363636365 0.3625 0.17329545454545456 0.15\n",
      "\n",
      "5 0.02130681818181818 0.44583333333333336 0.04261363636363636 0.11666666666666667\n",
      "\n",
      "3 0.05539772727272727 0.40625 0.03125 0.04583333333333333\n",
      "\n",
      "5 0.109375 0.3854166666666667 0.07102272727272728 0.09583333333333334\n",
      "\n",
      "5 0.24857954545454544 0.28958333333333336 0.06534090909090909 0.05416666666666667\n",
      "\n",
      "3 0.9886363636363636 0.45416666666666666 0.028409090909090908 0.09166666666666666\n",
      "\n",
      "2 0.8011363636363636 0.44583333333333336 0.11363636363636363 0.075\n",
      "\n",
      "6 0.7130681818181818 0.3416666666666667 0.23295454545454544 0.14166666666666666\n",
      "\n",
      "3 0.5767045454545454 0.35 0.05113636363636364 0.041666666666666664\n",
      "\n",
      "1 0.4588068181818182 0.2708333333333333 0.019886363636363636 0.025\n",
      "\n"
     ]
    }
   ],
   "source": [
    "for neighbor in root.iter('vehicle'):\n",
    "    width = int(root.find('width').text)\n",
    "    height = int(root.find('height').text)\n",
    "    \n",
    "    class_id = neighbor.find('type').text\n",
    "    \n",
    "    xmax = int(neighbor[1][0].text)\n",
    "    xmin = int(neighbor[1][1].text)\n",
    "    ymax = int(neighbor[1][2].text)\n",
    "    ymin = int(neighbor[1][3].text)\n",
    "    \n",
    "    xcenter = (xmax + xmin) / 2 / width\n",
    "    ycenter = (ymax + ymin) / 2 / height\n",
    "    w = (xmax - xmin) / width\n",
    "    h = (ymax - ymin) / height\n",
    "    \n",
    "    line = str(class_id) + ' ' + str(xcenter) + ' ' + str(ycenter) + ' ' + str(w) + ' ' + str(h) + '\\n'\n",
    "    print(line)"
   ]
  },
  {
   "cell_type": "code",
   "execution_count": 2,
   "id": "6f47b2ba-546e-4553-8707-f2b9ba2afb04",
   "metadata": {},
   "outputs": [],
   "source": [
    "k=0"
   ]
  },
  {
   "cell_type": "code",
   "execution_count": 3,
   "id": "bcacf5bc-c7b2-47b2-a3ca-5ca0b4738390",
   "metadata": {},
   "outputs": [
    {
     "name": "stdout",
     "output_type": "stream",
     "text": [
      "data/CityCam/164-20160223-14/000001.xml 398\n",
      "data/CityCam/164-20160223-14/000001.jpg 398\n",
      "0\n"
     ]
    }
   ],
   "source": [
    "import glob\n",
    "from shutil import copyfile\n",
    "\n",
    "\n",
    "xml_files = sorted(glob.glob('data/CityCam/164-20160223-14/*.xml'))\n",
    "img_files = sorted(glob.glob('data/CityCam/164-20160223-14/*.jpg'))\n",
    "\n",
    "print(xml_files[0], len(xml_files))\n",
    "print(img_files[0], len(img_files))\n",
    "print(k)"
   ]
  },
  {
   "cell_type": "code",
   "execution_count": 9,
   "id": "211eee18-d72c-400a-820f-9782b142e4a6",
   "metadata": {
    "scrolled": true,
    "tags": []
   },
   "outputs": [
    {
     "name": "stdout",
     "output_type": "stream",
     "text": [
      "9\n",
      "9\n",
      "9\n",
      "9\n",
      "9\n",
      "9\n",
      "9\n",
      "9\n",
      "9\n",
      "9\n",
      "9\n",
      "9\n",
      "9\n",
      "9\n",
      "9\n",
      "9\n",
      "9\n"
     ]
    }
   ],
   "source": [
    "output = 'yolo/datasets/citycam/train'\n",
    "\n",
    "for i in range(len(xml_files)):\n",
    "    tree = ET.parse(xml_files[i])\n",
    "    root = tree.getroot()\n",
    "        \n",
    "#     copyfile(img_files[i], output + '/images/' + str(k) + '.jpg')\n",
    "#     f = open(output + \"/labels/\" + str(k) + '.txt', \"w\")\n",
    "    \n",
    "    for neighbor in root.iter('vehicle'):\n",
    "        width = int(root.find('width').text)\n",
    "        height = int(root.find('height').text)\n",
    "\n",
    "        class_id = int(neighbor.find('type').text) - 1\n",
    "\n",
    "        xmax = int(neighbor[1][0].text)\n",
    "        xmin = int(neighbor[1][1].text)\n",
    "        ymax = int(neighbor[1][2].text)\n",
    "        ymin = int(neighbor[1][3].text)\n",
    "\n",
    "        xcenter = (xmax + xmin) / 2 / width\n",
    "        ycenter = (ymax + ymin) / 2 / height\n",
    "        w = (xmax - xmin) / width\n",
    "        h = (ymax - ymin) / height\n",
    "        \n",
    "        if(class_id >= 9 or class_id < 0):\n",
    "            print(class_id)\n",
    "\n",
    "#         line = str(class_id) + ' ' + str(xcenter) + ' ' + str(ycenter) + ' ' + str(w) + ' ' + str(h) + '\\n'\n",
    "#         f.write(line)\n",
    "        \n",
    "#     f.close()\n",
    "    k+=1"
   ]
  },
  {
   "cell_type": "code",
   "execution_count": 96,
   "id": "bdb9b673-693d-489c-8644-cb3a3cc64eda",
   "metadata": {},
   "outputs": [
    {
     "data": {
      "text/plain": [
       "1198"
      ]
     },
     "execution_count": 96,
     "metadata": {},
     "output_type": "execute_result"
    }
   ],
   "source": [
    "k"
   ]
  },
  {
   "cell_type": "code",
   "execution_count": null,
   "id": "d7fd628f-0743-4ccc-8f26-b09564188e6c",
   "metadata": {},
   "outputs": [],
   "source": []
  }
 ],
 "metadata": {
  "kernelspec": {
   "display_name": "Python [conda env:menv]",
   "language": "python",
   "name": "conda-env-menv-py"
  },
  "language_info": {
   "codemirror_mode": {
    "name": "ipython",
    "version": 3
   },
   "file_extension": ".py",
   "mimetype": "text/x-python",
   "name": "python",
   "nbconvert_exporter": "python",
   "pygments_lexer": "ipython3",
   "version": "3.9.7"
  }
 },
 "nbformat": 4,
 "nbformat_minor": 5
}
